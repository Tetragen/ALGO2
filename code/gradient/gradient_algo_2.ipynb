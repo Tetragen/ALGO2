{
 "cells": [
  {
   "cell_type": "code",
   "execution_count": null,
   "metadata": {},
   "outputs": [],
   "source": [
    "from mpl_toolkits.mplot3d import axes3d\n",
    "import os\n",
    "import matplotlib.pyplot as plt\n",
    "import numpy as np\n",
    "import math\n",
    "\n",
    "\n",
    "def function_to_minimize(x, y):\n",
    "    return 0.5*y+0.1*(x**2+y**2)\\\n",
    "        - 100*math.exp(-((x-11.5)**2+(y-8.2)**2)/5)\\\n",
    "        - 200*math.exp(-((x+9)**2+(y+11)**2)/10)\n",
    "\n",
    "\n",
    "def xgradient(x, y):\n",
    "    return 0.2*x +\\\n",
    "        100*math.exp(-((x-11.5)**2+(y-8.2)**2)/5)*(2/5)*(x-11.5) +\\\n",
    "        200*math.exp(-((x+9)**2+(y+11)**2)/10)*(2/10)*(x+9)\n",
    "\n",
    "\n",
    "def ygradient(x, y):\n",
    "    return 0.5+0.2*y +\\\n",
    "        100*math.exp(-((x-11.5)**2+(y-8.2)**2)/5)*(2/5)*(y-8.2) +\\\n",
    "        200*math.exp(-((x+9)**2+(y+11)**2)/10)*(2/10)*(y+11)\n"
   ]
  },
  {
   "cell_type": "code",
   "execution_count": null,
   "metadata": {},
   "outputs": [],
   "source": [
    "%matplotlib inline\n",
    "import pylab as pl\n",
    "import time\n",
    "from IPython import display\n",
    "\n",
    "# plot the function\n",
    "fig = plt.figure()\n",
    "ax = fig.add_subplot(111, projection='3d')\n",
    "X, Y, Z = axes3d.get_test_data(0.05)\n",
    "S = X + Y\n",
    "\n",
    "for i in range(S.shape[0]):\n",
    "    for j in range(S.shape[1]):\n",
    "        S[i][j] = function_to_minimize(X[i][j], Y[i][j])\n",
    "\n",
    "ax.plot_wireframe(X, Y, S, rstride=5, cstride=5, alpha=0.3)\n",
    "plt.xlabel('x')\n",
    "plt.ylabel('y')\n",
    "plt.savefig('function_to_minimize_2.pdf')\n",
    "\n",
    "# initialize the starting point\n",
    "scope = 25\n",
    "\n",
    "x_star = np.random.uniform(-scope, scope)\n",
    "y_star = np.random.uniform(-scope, scope)\n",
    "\n",
    "# iterate the gradient algorithm\n",
    "N_iterations = 5000\n",
    "alpha = 0.001\n",
    "for iteration in range(N_iterations):\n",
    "    x_gradient_vector = xgradient(x_star, y_star)\n",
    "    y_gradient_vector = ygradient(x_star, y_star)\n",
    "    x_star = x_star - alpha*x_gradient_vector\n",
    "    y_star = y_star - alpha*y_gradient_vector\n",
    "    # print(x_gradient_vector)\n",
    "    z = function_to_minimize(x_star, y_star)\n",
    "    if iteration % 500 == 0:\n",
    "        ax.scatter(x_star, y_star, z, marker = \"x\", color=\"red\")\n",
    "        plt.savefig(f\"function_2/{iteration}.pdf\")\n",
    "        print(f\"\\niteration {iteration}\")\n",
    "        print(f\"x* : {x_star:.2f} y* : {y_star:.2f}  value : {z:.2f}\")\n",
    "        display.clear_output(wait=True)\n",
    "        display.display(pl.gcf())\n",
    "        time.sleep(0.2)"
   ]
  },
  {
   "cell_type": "code",
   "execution_count": null,
   "metadata": {},
   "outputs": [],
   "source": []
  }
 ],
 "metadata": {
  "kernelspec": {
   "display_name": "Python 3",
   "language": "python",
   "name": "python3"
  },
  "language_info": {
   "codemirror_mode": {
    "name": "ipython",
    "version": 3
   },
   "file_extension": ".py",
   "mimetype": "text/x-python",
   "name": "python",
   "nbconvert_exporter": "python",
   "pygments_lexer": "ipython3",
   "version": "3.7.6"
  }
 },
 "nbformat": 4,
 "nbformat_minor": 4
}
