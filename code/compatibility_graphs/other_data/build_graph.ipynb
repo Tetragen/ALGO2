{
 "cells": [
  {
   "cell_type": "code",
   "execution_count": null,
   "metadata": {},
   "outputs": [],
   "source": [
    "import math\n",
    "import numpy as np\n",
    "import pylab as pl\n",
    "import matplotlib.pyplot as plt\n",
    "import pandas as pd\n",
    "from IPython import display\n",
    "from graphviz import Graph"
   ]
  },
  {
   "cell_type": "code",
   "execution_count": null,
   "metadata": {},
   "outputs": [],
   "source": [
    "dataframe = pd.read_csv(\"csv_files/complex_data.csv\")"
   ]
  },
  {
   "cell_type": "code",
   "execution_count": null,
   "metadata": {},
   "outputs": [],
   "source": [
    "nb_players = len(dataframe.index)\n",
    "print(nb_players)"
   ]
  },
  {
   "cell_type": "code",
   "execution_count": null,
   "metadata": {},
   "outputs": [],
   "source": [
    "print(dataframe.info())"
   ]
  },
  {
   "cell_type": "code",
   "execution_count": null,
   "metadata": {},
   "outputs": [],
   "source": [
    "print(dataframe.columns)"
   ]
  },
  {
   "cell_type": "code",
   "execution_count": null,
   "metadata": {},
   "outputs": [],
   "source": [
    "print(dataframe.head(10))"
   ]
  },
  {
   "cell_type": "code",
   "execution_count": null,
   "metadata": {},
   "outputs": [],
   "source": [
    "player_id = 1\n",
    "print(f\"---\\nall information on player {player_id}\\n---\")\n",
    "print(dataframe.loc[player_id])"
   ]
  },
  {
   "cell_type": "code",
   "execution_count": null,
   "metadata": {},
   "outputs": [],
   "source": [
    "def compute_dissimilarity(player_1_id, player_2_id):\n",
    "    \"\"\"\n",
    "        Compute  dissimilarity betwwen two players\n",
    "        based on their id.\n",
    "\n",
    "        The meal is not a quantitative attribute.\n",
    "        It is called a categorical variable.\n",
    "        We must handle it differently than quantitative\n",
    "        attributes.\n",
    "    \"\"\"\n",
    "    player_1_note = dataframe.loc[player_1_id][1]\n",
    "    player_2_note = dataframe.loc[player_2_id][1]\n",
    "\n",
    "    player_1_speed = dataframe.loc[player_1_id][2]\n",
    "    player_2_speed = dataframe.loc[player_2_id][2]\n",
    "\n",
    "    player_1_meal = dataframe.loc[player_1_id][3]\n",
    "    player_2_meal = dataframe.loc[player_2_id][3]\n",
    "\n",
    "    if player_1_meal == player_2_meal:\n",
    "        dissimilarity_meal = 0\n",
    "    else:\n",
    "        dissimilarity_meal = 1\n",
    "\n",
    "    # EDIT HERE\n",
    "    dissimilarity = math.sqrt(\n",
    "        (player_1_note-player_2_note)**2+(player_1_speed-player_2_speed)**2+dissimilarity_meal)\n",
    "\n",
    "    print(\"----\")\n",
    "    player_1_name = dataframe.loc[player_1_id][\"Name\"]\n",
    "    player_2_name = dataframe.loc[player_2_id][\"Name\"]\n",
    "    print(f\"plyr 1 {player_1_name}, plyr 2 {player_2_name}, dissimilarity: {dissimilarity}\")\n",
    "    return dissimilarity"
   ]
  },
  {
   "cell_type": "code",
   "execution_count": null,
   "metadata": {},
   "outputs": [],
   "source": [
    "# build a dissimilarity matrix\n",
    "dissimilarity_matrix = np.zeros((nb_players, nb_players))\n",
    "print(\"compute dissimilarities\")\n",
    "for player_1_id in range(nb_players):\n",
    "    for player_2_id in range(nb_players):\n",
    "        dissimilarity = compute_dissimilarity(player_1_id, player_2_id)\n",
    "        dissimilarity_matrix[player_1_id, player_2_id] = dissimilarity\n",
    "\n",
    "print(\"dissimilarity matrix\")\n",
    "print(dissimilarity_matrix)"
   ]
  },
  {
   "cell_type": "code",
   "execution_count": null,
   "metadata": {},
   "outputs": [],
   "source": [
    "threshold = 3\n",
    "# build a graph from the dissimilarity\n",
    "dot = Graph(comment='Graph created from complex data',\n",
    "            strict=True)\n",
    "for player_id in range(nb_players):\n",
    "    player_name = dataframe.loc[player_id][0]\n",
    "    dot.node(player_name)\n",
    "\n",
    "for player_1_id in range(nb_players):\n",
    "    # we use an undirected graph so we do not need\n",
    "    # to take the potential reciprocal edge\n",
    "    # into account\n",
    "    for player_2_id in range(nb_players):\n",
    "        # no self loops\n",
    "        if not player_1_id == player_2_id:\n",
    "            player_1_name = dataframe.loc[player_1_id][0]\n",
    "            player_2_name = dataframe.loc[player_2_id][0]\n",
    "            # use the threshold condition\n",
    "            if dissimilarity_matrix[player_1_id, player_2_id] > threshold:\n",
    "                dot.edge(player_1_name,\n",
    "                         player_2_name,\n",
    "                         color='darkolivegreen4',\n",
    "                         penwidth='1.1')\n",
    "\n",
    "# visualize the graph\n",
    "dot.attr(label=f\"threshold {threshold}\", fontsize='20')\n",
    "graph_name = f\"images/complex_data_threshold_{threshold}\"\n",
    "dot.render(graph_name)"
   ]
  },
  {
   "cell_type": "code",
   "execution_count": null,
   "metadata": {},
   "outputs": [],
   "source": [
    "dot"
   ]
  }
 ],
 "metadata": {
  "kernelspec": {
   "display_name": "Python 3",
   "language": "python",
   "name": "python3"
  },
  "language_info": {
   "codemirror_mode": {
    "name": "ipython",
    "version": 3
   },
   "file_extension": ".py",
   "mimetype": "text/x-python",
   "name": "python",
   "nbconvert_exporter": "python",
   "pygments_lexer": "ipython3",
   "version": "3.7.6"
  }
 },
 "nbformat": 4,
 "nbformat_minor": 4
}
