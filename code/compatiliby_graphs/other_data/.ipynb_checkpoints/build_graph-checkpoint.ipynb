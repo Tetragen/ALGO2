{
 "cells": [
  {
   "cell_type": "code",
   "execution_count": 1,
   "metadata": {},
   "outputs": [],
   "source": [
    "import math\n",
    "import numpy as np\n",
    "import pandas as pd\n",
    "from graphviz import Graph"
   ]
  },
  {
   "cell_type": "code",
   "execution_count": 2,
   "metadata": {},
   "outputs": [],
   "source": [
    "dataframe = pd.read_csv(\"csv_files/complex_data.csv\")"
   ]
  },
  {
   "cell_type": "code",
   "execution_count": 4,
   "metadata": {},
   "outputs": [
    {
     "name": "stdout",
     "output_type": "stream",
     "text": [
      "6\n"
     ]
    }
   ],
   "source": [
    "nb_players = len(dataframe.index)\n",
    "print(nb_players)"
   ]
  },
  {
   "cell_type": "code",
   "execution_count": 5,
   "metadata": {},
   "outputs": [
    {
     "name": "stdout",
     "output_type": "stream",
     "text": [
      "<class 'pandas.core.frame.DataFrame'>\n",
      "RangeIndex: 6 entries, 0 to 5\n",
      "Data columns (total 4 columns):\n",
      " #   Column         Non-Null Count  Dtype \n",
      "---  ------         --------------  ----- \n",
      " 0   Name           6 non-null      object\n",
      " 1   Fifa note      6 non-null      int64 \n",
      " 2   speed          6 non-null      int64 \n",
      " 3   favorite meal  6 non-null      object\n",
      "dtypes: int64(2), object(2)\n",
      "memory usage: 320.0+ bytes\n",
      "None\n"
     ]
    }
   ],
   "source": [
    "print(dataframe.info())"
   ]
  },
  {
   "cell_type": "code",
   "execution_count": 7,
   "metadata": {},
   "outputs": [
    {
     "name": "stdout",
     "output_type": "stream",
     "text": [
      "Index(['Name', 'Fifa note', 'speed', 'favorite meal'], dtype='object')\n"
     ]
    }
   ],
   "source": [
    "print(dataframe.columns)"
   ]
  },
  {
   "cell_type": "code",
   "execution_count": 14,
   "metadata": {},
   "outputs": [
    {
     "name": "stdout",
     "output_type": "stream",
     "text": [
      "             Name  Fifa note  speed favorite meal\n",
      "0      Toni Kroos         90     80         pasta\n",
      "1    David De Gea         91     70         fries\n",
      "2    Sergio Ramos         91     75         pasta\n",
      "3   Kikyan Mbappé        100    100         fries\n",
      "4  Mohammed Salah         88     95         pasta\n",
      "5    Mats Hummels         89     73    vegetables\n"
     ]
    }
   ],
   "source": [
    "print(dataframe.head(10))"
   ]
  },
  {
   "cell_type": "code",
   "execution_count": 20,
   "metadata": {},
   "outputs": [
    {
     "name": "stdout",
     "output_type": "stream",
     "text": [
      "---\n",
      "all information on player 1\n",
      "---\n",
      "Name             David De Gea\n",
      "Fifa note                  91\n",
      "speed                      70\n",
      "favorite meal           fries\n",
      "Name: 1, dtype: object\n"
     ]
    }
   ],
   "source": [
    "player_id = 1\n",
    "print(f\"---\\nall information on player {player_id}\\n---\")\n",
    "print(dataframe.loc[player_id])"
   ]
  },
  {
   "cell_type": "code",
   "execution_count": 27,
   "metadata": {},
   "outputs": [],
   "source": [
    "def compute_dissimilarity(player_1_id, player_2_id):\n",
    "    \"\"\"\n",
    "        Compute  dissimilarity betwwen two players\n",
    "        based on their id.\n",
    "\n",
    "        The meal is not a quantitative attribute.\n",
    "        It is called a categorical variable.\n",
    "        We must handle it differently than quantitative\n",
    "        attributes.\n",
    "    \"\"\"\n",
    "    player_1_note = dataframe.loc[player_1_id][1]\n",
    "    player_2_note = dataframe.loc[player_2_id][1]\n",
    "\n",
    "    player_1_speed = dataframe.loc[player_1_id][2]\n",
    "    player_2_speed = dataframe.loc[player_2_id][2]\n",
    "\n",
    "    player_1_meal = dataframe.loc[player_1_id][3]\n",
    "    player_2_meal = dataframe.loc[player_2_id][3]\n",
    "\n",
    "    if player_1_meal == player_2_meal:\n",
    "        dissimilarity_meal = 0\n",
    "    else:\n",
    "        dissimilarity_meal = 1\n",
    "\n",
    "    # EDIT HERE\n",
    "    dissimilarity = math.sqrt(\n",
    "        (player_1_note-player_2_note)**2+(player_1_speed-player_2_speed)**2+dissimilarity_meal)\n",
    "\n",
    "    print(\"----\")\n",
    "    player_1_name = dataframe.loc[player_1_id][\"Name\"]\n",
    "    player_2_name = dataframe.loc[player_2_id][\"Name\"]\n",
    "    print(f\"plyr 1 {player_1_name}, plyr 2 {player_2_name}, dissimilarity: {dissimilarity}\")\n",
    "    return dissimilarity"
   ]
  },
  {
   "cell_type": "code",
   "execution_count": 28,
   "metadata": {},
   "outputs": [
    {
     "name": "stdout",
     "output_type": "stream",
     "text": [
      "compute dissimilarities\n",
      "----\n",
      "plyr 1 Toni Kroos, plyr 2 Toni Kroos, dissimilarity: 0.0\n",
      "----\n",
      "plyr 1 Toni Kroos, plyr 2 David De Gea, dissimilarity: 10.099504938362077\n",
      "----\n",
      "plyr 1 Toni Kroos, plyr 2 Sergio Ramos, dissimilarity: 5.0990195135927845\n",
      "----\n",
      "plyr 1 Toni Kroos, plyr 2 Kikyan Mbappé, dissimilarity: 22.38302928559939\n",
      "----\n",
      "plyr 1 Toni Kroos, plyr 2 Mohammed Salah, dissimilarity: 15.132745950421556\n",
      "----\n",
      "plyr 1 Toni Kroos, plyr 2 Mats Hummels, dissimilarity: 7.14142842854285\n",
      "----\n",
      "plyr 1 David De Gea, plyr 2 Toni Kroos, dissimilarity: 10.099504938362077\n",
      "----\n",
      "plyr 1 David De Gea, plyr 2 David De Gea, dissimilarity: 0.0\n",
      "----\n",
      "plyr 1 David De Gea, plyr 2 Sergio Ramos, dissimilarity: 5.0990195135927845\n",
      "----\n",
      "plyr 1 David De Gea, plyr 2 Kikyan Mbappé, dissimilarity: 31.32091952673165\n",
      "----\n",
      "plyr 1 David De Gea, plyr 2 Mohammed Salah, dissimilarity: 25.199206336708304\n",
      "----\n",
      "plyr 1 David De Gea, plyr 2 Mats Hummels, dissimilarity: 3.7416573867739413\n",
      "----\n",
      "plyr 1 Sergio Ramos, plyr 2 Toni Kroos, dissimilarity: 5.0990195135927845\n",
      "----\n",
      "plyr 1 Sergio Ramos, plyr 2 David De Gea, dissimilarity: 5.0990195135927845\n",
      "----\n",
      "plyr 1 Sergio Ramos, plyr 2 Sergio Ramos, dissimilarity: 0.0\n",
      "----\n",
      "plyr 1 Sergio Ramos, plyr 2 Kikyan Mbappé, dissimilarity: 26.589471600616662\n",
      "----\n",
      "plyr 1 Sergio Ramos, plyr 2 Mohammed Salah, dissimilarity: 20.223748416156685\n",
      "----\n",
      "plyr 1 Sergio Ramos, plyr 2 Mats Hummels, dissimilarity: 3.0\n",
      "----\n",
      "plyr 1 Kikyan Mbappé, plyr 2 Toni Kroos, dissimilarity: 22.38302928559939\n",
      "----\n",
      "plyr 1 Kikyan Mbappé, plyr 2 David De Gea, dissimilarity: 31.32091952673165\n",
      "----\n",
      "plyr 1 Kikyan Mbappé, plyr 2 Sergio Ramos, dissimilarity: 26.589471600616662\n",
      "----\n",
      "plyr 1 Kikyan Mbappé, plyr 2 Kikyan Mbappé, dissimilarity: 0.0\n",
      "----\n",
      "plyr 1 Kikyan Mbappé, plyr 2 Mohammed Salah, dissimilarity: 13.038404810405298\n",
      "----\n",
      "plyr 1 Kikyan Mbappé, plyr 2 Mats Hummels, dissimilarity: 29.171904291629644\n",
      "----\n",
      "plyr 1 Mohammed Salah, plyr 2 Toni Kroos, dissimilarity: 15.132745950421556\n",
      "----\n",
      "plyr 1 Mohammed Salah, plyr 2 David De Gea, dissimilarity: 25.199206336708304\n",
      "----\n",
      "plyr 1 Mohammed Salah, plyr 2 Sergio Ramos, dissimilarity: 20.223748416156685\n",
      "----\n",
      "plyr 1 Mohammed Salah, plyr 2 Kikyan Mbappé, dissimilarity: 13.038404810405298\n",
      "----\n",
      "plyr 1 Mohammed Salah, plyr 2 Mohammed Salah, dissimilarity: 0.0\n",
      "----\n",
      "plyr 1 Mohammed Salah, plyr 2 Mats Hummels, dissimilarity: 22.045407685048602\n",
      "----\n",
      "plyr 1 Mats Hummels, plyr 2 Toni Kroos, dissimilarity: 7.14142842854285\n",
      "----\n",
      "plyr 1 Mats Hummels, plyr 2 David De Gea, dissimilarity: 3.7416573867739413\n",
      "----\n",
      "plyr 1 Mats Hummels, plyr 2 Sergio Ramos, dissimilarity: 3.0\n",
      "----\n",
      "plyr 1 Mats Hummels, plyr 2 Kikyan Mbappé, dissimilarity: 29.171904291629644\n",
      "----\n",
      "plyr 1 Mats Hummels, plyr 2 Mohammed Salah, dissimilarity: 22.045407685048602\n",
      "----\n",
      "plyr 1 Mats Hummels, plyr 2 Mats Hummels, dissimilarity: 0.0\n",
      "dissimilarity matrix\n",
      "[[ 0.         10.09950494  5.09901951 22.38302929 15.13274595  7.14142843]\n",
      " [10.09950494  0.          5.09901951 31.32091953 25.19920634  3.74165739]\n",
      " [ 5.09901951  5.09901951  0.         26.5894716  20.22374842  3.        ]\n",
      " [22.38302929 31.32091953 26.5894716   0.         13.03840481 29.17190429]\n",
      " [15.13274595 25.19920634 20.22374842 13.03840481  0.         22.04540769]\n",
      " [ 7.14142843  3.74165739  3.         29.17190429 22.04540769  0.        ]]\n"
     ]
    }
   ],
   "source": [
    "# build a dissimilarity matrix\n",
    "dissimilarity_matrix = np.zeros((nb_players, nb_players))\n",
    "print(\"compute dissimilarities\")\n",
    "for player_1_id in range(nb_players):\n",
    "    for player_2_id in range(nb_players):\n",
    "        dissimilarity = compute_dissimilarity(player_1_id, player_2_id)\n",
    "        dissimilarity_matrix[player_1_id, player_2_id] = dissimilarity\n",
    "\n",
    "print(\"dissimilarity matrix\")\n",
    "print(dissimilarity_matrix)"
   ]
  }
 ],
 "metadata": {
  "kernelspec": {
   "display_name": "Python 3",
   "language": "python",
   "name": "python3"
  },
  "language_info": {
   "codemirror_mode": {
    "name": "ipython",
    "version": 3
   },
   "file_extension": ".py",
   "mimetype": "text/x-python",
   "name": "python",
   "nbconvert_exporter": "python",
   "pygments_lexer": "ipython3",
   "version": "3.7.6"
  }
 },
 "nbformat": 4,
 "nbformat_minor": 4
}
